{
 "cells": [
  {
   "cell_type": "code",
   "execution_count": 1,
   "id": "22385e9b",
   "metadata": {},
   "outputs": [],
   "source": [
    "import numpy as np\n",
    "import pandas as pd\n",
    "import matplotlib.pyplot as plt\n",
    "import os\n",
    "import warnings\n",
    "warnings.filterwarnings('ignore')"
   ]
  },
  {
   "cell_type": "code",
   "execution_count": 2,
   "id": "056da037",
   "metadata": {},
   "outputs": [
    {
     "data": {
      "text/html": [
       "<div>\n",
       "<style scoped>\n",
       "    .dataframe tbody tr th:only-of-type {\n",
       "        vertical-align: middle;\n",
       "    }\n",
       "\n",
       "    .dataframe tbody tr th {\n",
       "        vertical-align: top;\n",
       "    }\n",
       "\n",
       "    .dataframe thead th {\n",
       "        text-align: right;\n",
       "    }\n",
       "</style>\n",
       "<table border=\"1\" class=\"dataframe\">\n",
       "  <thead>\n",
       "    <tr style=\"text-align: right;\">\n",
       "      <th></th>\n",
       "      <th>model</th>\n",
       "      <th>year</th>\n",
       "      <th>price</th>\n",
       "      <th>transmission</th>\n",
       "      <th>mileage</th>\n",
       "      <th>fuelType</th>\n",
       "      <th>tax</th>\n",
       "      <th>mpg</th>\n",
       "      <th>engineSize</th>\n",
       "    </tr>\n",
       "  </thead>\n",
       "  <tbody>\n",
       "    <tr>\n",
       "      <th>0</th>\n",
       "      <td>A1</td>\n",
       "      <td>2017</td>\n",
       "      <td>12500</td>\n",
       "      <td>Manual</td>\n",
       "      <td>15735</td>\n",
       "      <td>Petrol</td>\n",
       "      <td>150</td>\n",
       "      <td>55.4</td>\n",
       "      <td>1.4</td>\n",
       "    </tr>\n",
       "    <tr>\n",
       "      <th>1</th>\n",
       "      <td>A6</td>\n",
       "      <td>2016</td>\n",
       "      <td>16500</td>\n",
       "      <td>Automatic</td>\n",
       "      <td>36203</td>\n",
       "      <td>Diesel</td>\n",
       "      <td>20</td>\n",
       "      <td>64.2</td>\n",
       "      <td>2.0</td>\n",
       "    </tr>\n",
       "    <tr>\n",
       "      <th>2</th>\n",
       "      <td>A1</td>\n",
       "      <td>2016</td>\n",
       "      <td>11000</td>\n",
       "      <td>Manual</td>\n",
       "      <td>29946</td>\n",
       "      <td>Petrol</td>\n",
       "      <td>30</td>\n",
       "      <td>55.4</td>\n",
       "      <td>1.4</td>\n",
       "    </tr>\n",
       "    <tr>\n",
       "      <th>3</th>\n",
       "      <td>A4</td>\n",
       "      <td>2017</td>\n",
       "      <td>16800</td>\n",
       "      <td>Automatic</td>\n",
       "      <td>25952</td>\n",
       "      <td>Diesel</td>\n",
       "      <td>145</td>\n",
       "      <td>67.3</td>\n",
       "      <td>2.0</td>\n",
       "    </tr>\n",
       "    <tr>\n",
       "      <th>4</th>\n",
       "      <td>A3</td>\n",
       "      <td>2019</td>\n",
       "      <td>17300</td>\n",
       "      <td>Manual</td>\n",
       "      <td>1998</td>\n",
       "      <td>Petrol</td>\n",
       "      <td>145</td>\n",
       "      <td>49.6</td>\n",
       "      <td>1.0</td>\n",
       "    </tr>\n",
       "    <tr>\n",
       "      <th>...</th>\n",
       "      <td>...</td>\n",
       "      <td>...</td>\n",
       "      <td>...</td>\n",
       "      <td>...</td>\n",
       "      <td>...</td>\n",
       "      <td>...</td>\n",
       "      <td>...</td>\n",
       "      <td>...</td>\n",
       "      <td>...</td>\n",
       "    </tr>\n",
       "    <tr>\n",
       "      <th>10663</th>\n",
       "      <td>A3</td>\n",
       "      <td>2020</td>\n",
       "      <td>16999</td>\n",
       "      <td>Manual</td>\n",
       "      <td>4018</td>\n",
       "      <td>Petrol</td>\n",
       "      <td>145</td>\n",
       "      <td>49.6</td>\n",
       "      <td>1.0</td>\n",
       "    </tr>\n",
       "    <tr>\n",
       "      <th>10664</th>\n",
       "      <td>A3</td>\n",
       "      <td>2020</td>\n",
       "      <td>16999</td>\n",
       "      <td>Manual</td>\n",
       "      <td>1978</td>\n",
       "      <td>Petrol</td>\n",
       "      <td>150</td>\n",
       "      <td>49.6</td>\n",
       "      <td>1.0</td>\n",
       "    </tr>\n",
       "    <tr>\n",
       "      <th>10665</th>\n",
       "      <td>A3</td>\n",
       "      <td>2020</td>\n",
       "      <td>17199</td>\n",
       "      <td>Manual</td>\n",
       "      <td>609</td>\n",
       "      <td>Petrol</td>\n",
       "      <td>150</td>\n",
       "      <td>49.6</td>\n",
       "      <td>1.0</td>\n",
       "    </tr>\n",
       "    <tr>\n",
       "      <th>10666</th>\n",
       "      <td>Q3</td>\n",
       "      <td>2017</td>\n",
       "      <td>19499</td>\n",
       "      <td>Automatic</td>\n",
       "      <td>8646</td>\n",
       "      <td>Petrol</td>\n",
       "      <td>150</td>\n",
       "      <td>47.9</td>\n",
       "      <td>1.4</td>\n",
       "    </tr>\n",
       "    <tr>\n",
       "      <th>10667</th>\n",
       "      <td>Q3</td>\n",
       "      <td>2016</td>\n",
       "      <td>15999</td>\n",
       "      <td>Manual</td>\n",
       "      <td>11855</td>\n",
       "      <td>Petrol</td>\n",
       "      <td>150</td>\n",
       "      <td>47.9</td>\n",
       "      <td>1.4</td>\n",
       "    </tr>\n",
       "  </tbody>\n",
       "</table>\n",
       "<p>10668 rows × 9 columns</p>\n",
       "</div>"
      ],
      "text/plain": [
       "      model  year  price transmission  mileage fuelType  tax   mpg  engineSize\n",
       "0        A1  2017  12500       Manual    15735   Petrol  150  55.4         1.4\n",
       "1        A6  2016  16500    Automatic    36203   Diesel   20  64.2         2.0\n",
       "2        A1  2016  11000       Manual    29946   Petrol   30  55.4         1.4\n",
       "3        A4  2017  16800    Automatic    25952   Diesel  145  67.3         2.0\n",
       "4        A3  2019  17300       Manual     1998   Petrol  145  49.6         1.0\n",
       "...     ...   ...    ...          ...      ...      ...  ...   ...         ...\n",
       "10663    A3  2020  16999       Manual     4018   Petrol  145  49.6         1.0\n",
       "10664    A3  2020  16999       Manual     1978   Petrol  150  49.6         1.0\n",
       "10665    A3  2020  17199       Manual      609   Petrol  150  49.6         1.0\n",
       "10666    Q3  2017  19499    Automatic     8646   Petrol  150  47.9         1.4\n",
       "10667    Q3  2016  15999       Manual    11855   Petrol  150  47.9         1.4\n",
       "\n",
       "[10668 rows x 9 columns]"
      ]
     },
     "metadata": {},
     "output_type": "display_data"
    }
   ],
   "source": [
    "df=pd.read_csv(\"audi.csv\")\n",
    "display(df)"
   ]
  },
  {
   "cell_type": "code",
   "execution_count": 3,
   "id": "b7d2a5bc",
   "metadata": {},
   "outputs": [
    {
     "name": "stdout",
     "output_type": "stream",
     "text": [
      "10668\n"
     ]
    }
   ],
   "source": [
    "print (len(df))"
   ]
  },
  {
   "cell_type": "code",
   "execution_count": 4,
   "id": "9d2831f0",
   "metadata": {},
   "outputs": [
    {
     "data": {
      "text/plain": [
       "(10668, 9)"
      ]
     },
     "metadata": {},
     "output_type": "display_data"
    }
   ],
   "source": [
    "display (df.shape)\n"
   ]
  },
  {
   "cell_type": "code",
   "execution_count": 5,
   "id": "b967d78c",
   "metadata": {},
   "outputs": [
    {
     "data": {
      "text/plain": [
       "model            object\n",
       "year              int64\n",
       "price             int64\n",
       "transmission     object\n",
       "mileage           int64\n",
       "fuelType         object\n",
       "tax               int64\n",
       "mpg             float64\n",
       "engineSize      float64\n",
       "dtype: object"
      ]
     },
     "metadata": {},
     "output_type": "display_data"
    }
   ],
   "source": [
    "display (df.dtypes)"
   ]
  },
  {
   "cell_type": "code",
   "execution_count": 6,
   "id": "5656cc48",
   "metadata": {},
   "outputs": [
    {
     "data": {
      "text/plain": [
       "model           0\n",
       "year            0\n",
       "price           0\n",
       "transmission    0\n",
       "mileage         0\n",
       "fuelType        0\n",
       "tax             0\n",
       "mpg             0\n",
       "engineSize      0\n",
       "dtype: int64"
      ]
     },
     "metadata": {},
     "output_type": "display_data"
    }
   ],
   "source": [
    "display (df.isna().sum())"
   ]
  },
  {
   "cell_type": "code",
   "execution_count": 7,
   "id": "1209bc8f",
   "metadata": {},
   "outputs": [
    {
     "name": "stdout",
     "output_type": "stream",
     "text": [
      "<class 'pandas.core.frame.DataFrame'>\n",
      "RangeIndex: 10668 entries, 0 to 10667\n",
      "Data columns (total 9 columns):\n",
      " #   Column        Non-Null Count  Dtype  \n",
      "---  ------        --------------  -----  \n",
      " 0   model         10668 non-null  object \n",
      " 1   year          10668 non-null  int64  \n",
      " 2   price         10668 non-null  int64  \n",
      " 3   transmission  10668 non-null  object \n",
      " 4   mileage       10668 non-null  int64  \n",
      " 5   fuelType      10668 non-null  object \n",
      " 6   tax           10668 non-null  int64  \n",
      " 7   mpg           10668 non-null  float64\n",
      " 8   engineSize    10668 non-null  float64\n",
      "dtypes: float64(2), int64(4), object(3)\n",
      "memory usage: 750.2+ KB\n",
      "None\n"
     ]
    }
   ],
   "source": [
    "print (df.info())"
   ]
  },
  {
   "cell_type": "code",
   "execution_count": 8,
   "id": "341b8cc4",
   "metadata": {},
   "outputs": [
    {
     "data": {
      "text/html": [
       "<div>\n",
       "<style scoped>\n",
       "    .dataframe tbody tr th:only-of-type {\n",
       "        vertical-align: middle;\n",
       "    }\n",
       "\n",
       "    .dataframe tbody tr th {\n",
       "        vertical-align: top;\n",
       "    }\n",
       "\n",
       "    .dataframe thead th {\n",
       "        text-align: right;\n",
       "    }\n",
       "</style>\n",
       "<table border=\"1\" class=\"dataframe\">\n",
       "  <thead>\n",
       "    <tr style=\"text-align: right;\">\n",
       "      <th></th>\n",
       "      <th>year</th>\n",
       "      <th>price</th>\n",
       "      <th>mileage</th>\n",
       "      <th>tax</th>\n",
       "      <th>mpg</th>\n",
       "      <th>engineSize</th>\n",
       "    </tr>\n",
       "  </thead>\n",
       "  <tbody>\n",
       "    <tr>\n",
       "      <th>count</th>\n",
       "      <td>10668.000000</td>\n",
       "      <td>10668.000000</td>\n",
       "      <td>10668.000000</td>\n",
       "      <td>10668.000000</td>\n",
       "      <td>10668.000000</td>\n",
       "      <td>10668.000000</td>\n",
       "    </tr>\n",
       "    <tr>\n",
       "      <th>mean</th>\n",
       "      <td>2017.100675</td>\n",
       "      <td>22896.685039</td>\n",
       "      <td>24827.244001</td>\n",
       "      <td>126.011436</td>\n",
       "      <td>50.770022</td>\n",
       "      <td>1.930709</td>\n",
       "    </tr>\n",
       "    <tr>\n",
       "      <th>std</th>\n",
       "      <td>2.167494</td>\n",
       "      <td>11714.841888</td>\n",
       "      <td>23505.257205</td>\n",
       "      <td>67.170294</td>\n",
       "      <td>12.949782</td>\n",
       "      <td>0.602957</td>\n",
       "    </tr>\n",
       "    <tr>\n",
       "      <th>min</th>\n",
       "      <td>1997.000000</td>\n",
       "      <td>1490.000000</td>\n",
       "      <td>1.000000</td>\n",
       "      <td>0.000000</td>\n",
       "      <td>18.900000</td>\n",
       "      <td>0.000000</td>\n",
       "    </tr>\n",
       "    <tr>\n",
       "      <th>25%</th>\n",
       "      <td>2016.000000</td>\n",
       "      <td>15130.750000</td>\n",
       "      <td>5968.750000</td>\n",
       "      <td>125.000000</td>\n",
       "      <td>40.900000</td>\n",
       "      <td>1.500000</td>\n",
       "    </tr>\n",
       "    <tr>\n",
       "      <th>50%</th>\n",
       "      <td>2017.000000</td>\n",
       "      <td>20200.000000</td>\n",
       "      <td>19000.000000</td>\n",
       "      <td>145.000000</td>\n",
       "      <td>49.600000</td>\n",
       "      <td>2.000000</td>\n",
       "    </tr>\n",
       "    <tr>\n",
       "      <th>75%</th>\n",
       "      <td>2019.000000</td>\n",
       "      <td>27990.000000</td>\n",
       "      <td>36464.500000</td>\n",
       "      <td>145.000000</td>\n",
       "      <td>58.900000</td>\n",
       "      <td>2.000000</td>\n",
       "    </tr>\n",
       "    <tr>\n",
       "      <th>max</th>\n",
       "      <td>2020.000000</td>\n",
       "      <td>145000.000000</td>\n",
       "      <td>323000.000000</td>\n",
       "      <td>580.000000</td>\n",
       "      <td>188.300000</td>\n",
       "      <td>6.300000</td>\n",
       "    </tr>\n",
       "  </tbody>\n",
       "</table>\n",
       "</div>"
      ],
      "text/plain": [
       "               year          price        mileage           tax           mpg  \\\n",
       "count  10668.000000   10668.000000   10668.000000  10668.000000  10668.000000   \n",
       "mean    2017.100675   22896.685039   24827.244001    126.011436     50.770022   \n",
       "std        2.167494   11714.841888   23505.257205     67.170294     12.949782   \n",
       "min     1997.000000    1490.000000       1.000000      0.000000     18.900000   \n",
       "25%     2016.000000   15130.750000    5968.750000    125.000000     40.900000   \n",
       "50%     2017.000000   20200.000000   19000.000000    145.000000     49.600000   \n",
       "75%     2019.000000   27990.000000   36464.500000    145.000000     58.900000   \n",
       "max     2020.000000  145000.000000  323000.000000    580.000000    188.300000   \n",
       "\n",
       "         engineSize  \n",
       "count  10668.000000  \n",
       "mean       1.930709  \n",
       "std        0.602957  \n",
       "min        0.000000  \n",
       "25%        1.500000  \n",
       "50%        2.000000  \n",
       "75%        2.000000  \n",
       "max        6.300000  "
      ]
     },
     "metadata": {},
     "output_type": "display_data"
    }
   ],
   "source": [
    "display (df.describe())"
   ]
  },
  {
   "cell_type": "code",
   "execution_count": 9,
   "id": "5ef6c56b",
   "metadata": {},
   "outputs": [
    {
     "data": {
      "text/plain": [
       "(10668, 8)"
      ]
     },
     "metadata": {},
     "output_type": "display_data"
    },
    {
     "data": {
      "text/plain": [
       "array([[' A1', 2017, 'Manual', ..., 150, 55.4, 1.4],\n",
       "       [' A6', 2016, 'Automatic', ..., 20, 64.2, 2.0],\n",
       "       [' A1', 2016, 'Manual', ..., 30, 55.4, 1.4],\n",
       "       ...,\n",
       "       [' A3', 2020, 'Manual', ..., 150, 49.6, 1.0],\n",
       "       [' Q3', 2017, 'Automatic', ..., 150, 47.9, 1.4],\n",
       "       [' Q3', 2016, 'Manual', ..., 150, 47.9, 1.4]], dtype=object)"
      ]
     },
     "metadata": {},
     "output_type": "display_data"
    }
   ],
   "source": [
    "x = df.iloc[:,[0,1,3,4,5,6,7,8]].values\n",
    "display (x.shape)\n",
    "display (x)"
   ]
  },
  {
   "cell_type": "code",
   "execution_count": 10,
   "id": "aa815dc7",
   "metadata": {},
   "outputs": [
    {
     "data": {
      "text/plain": [
       "(10668, 1)"
      ]
     },
     "metadata": {},
     "output_type": "display_data"
    },
    {
     "data": {
      "text/plain": [
       "array([[12500],\n",
       "       [16500],\n",
       "       [11000],\n",
       "       ...,\n",
       "       [17199],\n",
       "       [19499],\n",
       "       [15999]], dtype=int64)"
      ]
     },
     "metadata": {},
     "output_type": "display_data"
    }
   ],
   "source": [
    "y = df.iloc[:,[2]].values\n",
    "display (y.shape)\n",
    "display (y)"
   ]
  },
  {
   "cell_type": "code",
   "execution_count": 11,
   "id": "3989c41c",
   "metadata": {},
   "outputs": [
    {
     "data": {
      "text/html": [
       "<div>\n",
       "<style scoped>\n",
       "    .dataframe tbody tr th:only-of-type {\n",
       "        vertical-align: middle;\n",
       "    }\n",
       "\n",
       "    .dataframe tbody tr th {\n",
       "        vertical-align: top;\n",
       "    }\n",
       "\n",
       "    .dataframe thead th {\n",
       "        text-align: right;\n",
       "    }\n",
       "</style>\n",
       "<table border=\"1\" class=\"dataframe\">\n",
       "  <thead>\n",
       "    <tr style=\"text-align: right;\">\n",
       "      <th></th>\n",
       "      <th>0</th>\n",
       "      <th>1</th>\n",
       "      <th>2</th>\n",
       "      <th>3</th>\n",
       "      <th>4</th>\n",
       "      <th>5</th>\n",
       "      <th>6</th>\n",
       "      <th>7</th>\n",
       "    </tr>\n",
       "  </thead>\n",
       "  <tbody>\n",
       "    <tr>\n",
       "      <th>0</th>\n",
       "      <td>A1</td>\n",
       "      <td>2017</td>\n",
       "      <td>Manual</td>\n",
       "      <td>15735</td>\n",
       "      <td>Petrol</td>\n",
       "      <td>150</td>\n",
       "      <td>55.4</td>\n",
       "      <td>1.4</td>\n",
       "    </tr>\n",
       "    <tr>\n",
       "      <th>1</th>\n",
       "      <td>A6</td>\n",
       "      <td>2016</td>\n",
       "      <td>Automatic</td>\n",
       "      <td>36203</td>\n",
       "      <td>Diesel</td>\n",
       "      <td>20</td>\n",
       "      <td>64.2</td>\n",
       "      <td>2.0</td>\n",
       "    </tr>\n",
       "    <tr>\n",
       "      <th>2</th>\n",
       "      <td>A1</td>\n",
       "      <td>2016</td>\n",
       "      <td>Manual</td>\n",
       "      <td>29946</td>\n",
       "      <td>Petrol</td>\n",
       "      <td>30</td>\n",
       "      <td>55.4</td>\n",
       "      <td>1.4</td>\n",
       "    </tr>\n",
       "    <tr>\n",
       "      <th>3</th>\n",
       "      <td>A4</td>\n",
       "      <td>2017</td>\n",
       "      <td>Automatic</td>\n",
       "      <td>25952</td>\n",
       "      <td>Diesel</td>\n",
       "      <td>145</td>\n",
       "      <td>67.3</td>\n",
       "      <td>2.0</td>\n",
       "    </tr>\n",
       "    <tr>\n",
       "      <th>4</th>\n",
       "      <td>A3</td>\n",
       "      <td>2019</td>\n",
       "      <td>Manual</td>\n",
       "      <td>1998</td>\n",
       "      <td>Petrol</td>\n",
       "      <td>145</td>\n",
       "      <td>49.6</td>\n",
       "      <td>1.0</td>\n",
       "    </tr>\n",
       "  </tbody>\n",
       "</table>\n",
       "</div>"
      ],
      "text/plain": [
       "     0     1          2      3       4    5     6    7\n",
       "0   A1  2017     Manual  15735  Petrol  150  55.4  1.4\n",
       "1   A6  2016  Automatic  36203  Diesel   20  64.2  2.0\n",
       "2   A1  2016     Manual  29946  Petrol   30  55.4  1.4\n",
       "3   A4  2017  Automatic  25952  Diesel  145  67.3  2.0\n",
       "4   A3  2019     Manual   1998  Petrol  145  49.6  1.0"
      ]
     },
     "metadata": {},
     "output_type": "display_data"
    }
   ],
   "source": [
    "display(pd.DataFrame(x).head(5))"
   ]
  },
  {
   "cell_type": "code",
   "execution_count": 12,
   "id": "d3d11ff3",
   "metadata": {},
   "outputs": [
    {
     "data": {
      "text/plain": [
       "array([[0, 2017, 'Manual', ..., 150, 55.4, 1.4],\n",
       "       [5, 2016, 'Automatic', ..., 20, 64.2, 2.0],\n",
       "       [0, 2016, 'Manual', ..., 30, 55.4, 1.4],\n",
       "       ...,\n",
       "       [2, 2020, 'Manual', ..., 150, 49.6, 1.0],\n",
       "       [9, 2017, 'Automatic', ..., 150, 47.9, 1.4],\n",
       "       [9, 2016, 'Manual', ..., 150, 47.9, 1.4]], dtype=object)"
      ]
     },
     "metadata": {},
     "output_type": "display_data"
    }
   ],
   "source": [
    "from sklearn.preprocessing import LabelEncoder\n",
    "le1 = LabelEncoder()\n",
    "x[:,0] = le1.fit_transform(x[:,0])\n",
    "le2 = LabelEncoder()\n",
    "x[:,-4] = le2.fit_transform(x[:,-4])\n",
    "display (x)"
   ]
  },
  {
   "cell_type": "code",
   "execution_count": 13,
   "id": "b0716c8f",
   "metadata": {},
   "outputs": [
    {
     "data": {
      "text/plain": [
       "(10668, 10)"
      ]
     },
     "metadata": {},
     "output_type": "display_data"
    },
    {
     "data": {
      "text/html": [
       "<div>\n",
       "<style scoped>\n",
       "    .dataframe tbody tr th:only-of-type {\n",
       "        vertical-align: middle;\n",
       "    }\n",
       "\n",
       "    .dataframe tbody tr th {\n",
       "        vertical-align: top;\n",
       "    }\n",
       "\n",
       "    .dataframe thead th {\n",
       "        text-align: right;\n",
       "    }\n",
       "</style>\n",
       "<table border=\"1\" class=\"dataframe\">\n",
       "  <thead>\n",
       "    <tr style=\"text-align: right;\">\n",
       "      <th></th>\n",
       "      <th>0</th>\n",
       "      <th>1</th>\n",
       "      <th>2</th>\n",
       "      <th>3</th>\n",
       "      <th>4</th>\n",
       "      <th>5</th>\n",
       "      <th>6</th>\n",
       "      <th>7</th>\n",
       "      <th>8</th>\n",
       "      <th>9</th>\n",
       "    </tr>\n",
       "  </thead>\n",
       "  <tbody>\n",
       "    <tr>\n",
       "      <th>0</th>\n",
       "      <td>0.0</td>\n",
       "      <td>1.0</td>\n",
       "      <td>0.0</td>\n",
       "      <td>0</td>\n",
       "      <td>2017</td>\n",
       "      <td>15735</td>\n",
       "      <td>2</td>\n",
       "      <td>150</td>\n",
       "      <td>55.4</td>\n",
       "      <td>1.4</td>\n",
       "    </tr>\n",
       "    <tr>\n",
       "      <th>1</th>\n",
       "      <td>1.0</td>\n",
       "      <td>0.0</td>\n",
       "      <td>0.0</td>\n",
       "      <td>5</td>\n",
       "      <td>2016</td>\n",
       "      <td>36203</td>\n",
       "      <td>0</td>\n",
       "      <td>20</td>\n",
       "      <td>64.2</td>\n",
       "      <td>2.0</td>\n",
       "    </tr>\n",
       "    <tr>\n",
       "      <th>2</th>\n",
       "      <td>0.0</td>\n",
       "      <td>1.0</td>\n",
       "      <td>0.0</td>\n",
       "      <td>0</td>\n",
       "      <td>2016</td>\n",
       "      <td>29946</td>\n",
       "      <td>2</td>\n",
       "      <td>30</td>\n",
       "      <td>55.4</td>\n",
       "      <td>1.4</td>\n",
       "    </tr>\n",
       "    <tr>\n",
       "      <th>3</th>\n",
       "      <td>1.0</td>\n",
       "      <td>0.0</td>\n",
       "      <td>0.0</td>\n",
       "      <td>3</td>\n",
       "      <td>2017</td>\n",
       "      <td>25952</td>\n",
       "      <td>0</td>\n",
       "      <td>145</td>\n",
       "      <td>67.3</td>\n",
       "      <td>2.0</td>\n",
       "    </tr>\n",
       "    <tr>\n",
       "      <th>4</th>\n",
       "      <td>0.0</td>\n",
       "      <td>1.0</td>\n",
       "      <td>0.0</td>\n",
       "      <td>2</td>\n",
       "      <td>2019</td>\n",
       "      <td>1998</td>\n",
       "      <td>2</td>\n",
       "      <td>145</td>\n",
       "      <td>49.6</td>\n",
       "      <td>1.0</td>\n",
       "    </tr>\n",
       "    <tr>\n",
       "      <th>...</th>\n",
       "      <td>...</td>\n",
       "      <td>...</td>\n",
       "      <td>...</td>\n",
       "      <td>...</td>\n",
       "      <td>...</td>\n",
       "      <td>...</td>\n",
       "      <td>...</td>\n",
       "      <td>...</td>\n",
       "      <td>...</td>\n",
       "      <td>...</td>\n",
       "    </tr>\n",
       "    <tr>\n",
       "      <th>10663</th>\n",
       "      <td>0.0</td>\n",
       "      <td>1.0</td>\n",
       "      <td>0.0</td>\n",
       "      <td>2</td>\n",
       "      <td>2020</td>\n",
       "      <td>4018</td>\n",
       "      <td>2</td>\n",
       "      <td>145</td>\n",
       "      <td>49.6</td>\n",
       "      <td>1.0</td>\n",
       "    </tr>\n",
       "    <tr>\n",
       "      <th>10664</th>\n",
       "      <td>0.0</td>\n",
       "      <td>1.0</td>\n",
       "      <td>0.0</td>\n",
       "      <td>2</td>\n",
       "      <td>2020</td>\n",
       "      <td>1978</td>\n",
       "      <td>2</td>\n",
       "      <td>150</td>\n",
       "      <td>49.6</td>\n",
       "      <td>1.0</td>\n",
       "    </tr>\n",
       "    <tr>\n",
       "      <th>10665</th>\n",
       "      <td>0.0</td>\n",
       "      <td>1.0</td>\n",
       "      <td>0.0</td>\n",
       "      <td>2</td>\n",
       "      <td>2020</td>\n",
       "      <td>609</td>\n",
       "      <td>2</td>\n",
       "      <td>150</td>\n",
       "      <td>49.6</td>\n",
       "      <td>1.0</td>\n",
       "    </tr>\n",
       "    <tr>\n",
       "      <th>10666</th>\n",
       "      <td>1.0</td>\n",
       "      <td>0.0</td>\n",
       "      <td>0.0</td>\n",
       "      <td>9</td>\n",
       "      <td>2017</td>\n",
       "      <td>8646</td>\n",
       "      <td>2</td>\n",
       "      <td>150</td>\n",
       "      <td>47.9</td>\n",
       "      <td>1.4</td>\n",
       "    </tr>\n",
       "    <tr>\n",
       "      <th>10667</th>\n",
       "      <td>0.0</td>\n",
       "      <td>1.0</td>\n",
       "      <td>0.0</td>\n",
       "      <td>9</td>\n",
       "      <td>2016</td>\n",
       "      <td>11855</td>\n",
       "      <td>2</td>\n",
       "      <td>150</td>\n",
       "      <td>47.9</td>\n",
       "      <td>1.4</td>\n",
       "    </tr>\n",
       "  </tbody>\n",
       "</table>\n",
       "<p>10668 rows × 10 columns</p>\n",
       "</div>"
      ],
      "text/plain": [
       "         0    1    2  3     4      5  6    7     8    9\n",
       "0      0.0  1.0  0.0  0  2017  15735  2  150  55.4  1.4\n",
       "1      1.0  0.0  0.0  5  2016  36203  0   20  64.2  2.0\n",
       "2      0.0  1.0  0.0  0  2016  29946  2   30  55.4  1.4\n",
       "3      1.0  0.0  0.0  3  2017  25952  0  145  67.3  2.0\n",
       "4      0.0  1.0  0.0  2  2019   1998  2  145  49.6  1.0\n",
       "...    ...  ...  ... ..   ...    ... ..  ...   ...  ...\n",
       "10663  0.0  1.0  0.0  2  2020   4018  2  145  49.6  1.0\n",
       "10664  0.0  1.0  0.0  2  2020   1978  2  150  49.6  1.0\n",
       "10665  0.0  1.0  0.0  2  2020    609  2  150  49.6  1.0\n",
       "10666  1.0  0.0  0.0  9  2017   8646  2  150  47.9  1.4\n",
       "10667  0.0  1.0  0.0  9  2016  11855  2  150  47.9  1.4\n",
       "\n",
       "[10668 rows x 10 columns]"
      ]
     },
     "metadata": {},
     "output_type": "display_data"
    }
   ],
   "source": [
    "from sklearn.preprocessing import OneHotEncoder\n",
    "from sklearn.compose import ColumnTransformer\n",
    "ct = ColumnTransformer(transformers = [('encoder',OneHotEncoder(),[2])],remainder='passthrough')\n",
    "x = ct.fit_transform(x)\n",
    "display (x.shape)\n",
    "display (pd.DataFrame(x))"
   ]
  },
  {
   "cell_type": "code",
   "execution_count": 14,
   "id": "32c857d5",
   "metadata": {},
   "outputs": [
    {
     "data": {
      "text/html": [
       "<div>\n",
       "<style scoped>\n",
       "    .dataframe tbody tr th:only-of-type {\n",
       "        vertical-align: middle;\n",
       "    }\n",
       "\n",
       "    .dataframe tbody tr th {\n",
       "        vertical-align: top;\n",
       "    }\n",
       "\n",
       "    .dataframe thead th {\n",
       "        text-align: right;\n",
       "    }\n",
       "</style>\n",
       "<table border=\"1\" class=\"dataframe\">\n",
       "  <thead>\n",
       "    <tr style=\"text-align: right;\">\n",
       "      <th></th>\n",
       "      <th>0</th>\n",
       "      <th>1</th>\n",
       "      <th>2</th>\n",
       "      <th>3</th>\n",
       "      <th>4</th>\n",
       "      <th>5</th>\n",
       "      <th>6</th>\n",
       "      <th>7</th>\n",
       "      <th>8</th>\n",
       "      <th>9</th>\n",
       "    </tr>\n",
       "  </thead>\n",
       "  <tbody>\n",
       "    <tr>\n",
       "      <th>0</th>\n",
       "      <td>0.0</td>\n",
       "      <td>1.0</td>\n",
       "      <td>0.0</td>\n",
       "      <td>0</td>\n",
       "      <td>2017</td>\n",
       "      <td>15735</td>\n",
       "      <td>2</td>\n",
       "      <td>150</td>\n",
       "      <td>55.4</td>\n",
       "      <td>1.4</td>\n",
       "    </tr>\n",
       "    <tr>\n",
       "      <th>1</th>\n",
       "      <td>1.0</td>\n",
       "      <td>0.0</td>\n",
       "      <td>0.0</td>\n",
       "      <td>5</td>\n",
       "      <td>2016</td>\n",
       "      <td>36203</td>\n",
       "      <td>0</td>\n",
       "      <td>20</td>\n",
       "      <td>64.2</td>\n",
       "      <td>2.0</td>\n",
       "    </tr>\n",
       "    <tr>\n",
       "      <th>2</th>\n",
       "      <td>0.0</td>\n",
       "      <td>1.0</td>\n",
       "      <td>0.0</td>\n",
       "      <td>0</td>\n",
       "      <td>2016</td>\n",
       "      <td>29946</td>\n",
       "      <td>2</td>\n",
       "      <td>30</td>\n",
       "      <td>55.4</td>\n",
       "      <td>1.4</td>\n",
       "    </tr>\n",
       "    <tr>\n",
       "      <th>3</th>\n",
       "      <td>1.0</td>\n",
       "      <td>0.0</td>\n",
       "      <td>0.0</td>\n",
       "      <td>3</td>\n",
       "      <td>2017</td>\n",
       "      <td>25952</td>\n",
       "      <td>0</td>\n",
       "      <td>145</td>\n",
       "      <td>67.3</td>\n",
       "      <td>2.0</td>\n",
       "    </tr>\n",
       "    <tr>\n",
       "      <th>4</th>\n",
       "      <td>0.0</td>\n",
       "      <td>1.0</td>\n",
       "      <td>0.0</td>\n",
       "      <td>2</td>\n",
       "      <td>2019</td>\n",
       "      <td>1998</td>\n",
       "      <td>2</td>\n",
       "      <td>145</td>\n",
       "      <td>49.6</td>\n",
       "      <td>1.0</td>\n",
       "    </tr>\n",
       "    <tr>\n",
       "      <th>...</th>\n",
       "      <td>...</td>\n",
       "      <td>...</td>\n",
       "      <td>...</td>\n",
       "      <td>...</td>\n",
       "      <td>...</td>\n",
       "      <td>...</td>\n",
       "      <td>...</td>\n",
       "      <td>...</td>\n",
       "      <td>...</td>\n",
       "      <td>...</td>\n",
       "    </tr>\n",
       "    <tr>\n",
       "      <th>10663</th>\n",
       "      <td>0.0</td>\n",
       "      <td>1.0</td>\n",
       "      <td>0.0</td>\n",
       "      <td>2</td>\n",
       "      <td>2020</td>\n",
       "      <td>4018</td>\n",
       "      <td>2</td>\n",
       "      <td>145</td>\n",
       "      <td>49.6</td>\n",
       "      <td>1.0</td>\n",
       "    </tr>\n",
       "    <tr>\n",
       "      <th>10664</th>\n",
       "      <td>0.0</td>\n",
       "      <td>1.0</td>\n",
       "      <td>0.0</td>\n",
       "      <td>2</td>\n",
       "      <td>2020</td>\n",
       "      <td>1978</td>\n",
       "      <td>2</td>\n",
       "      <td>150</td>\n",
       "      <td>49.6</td>\n",
       "      <td>1.0</td>\n",
       "    </tr>\n",
       "    <tr>\n",
       "      <th>10665</th>\n",
       "      <td>0.0</td>\n",
       "      <td>1.0</td>\n",
       "      <td>0.0</td>\n",
       "      <td>2</td>\n",
       "      <td>2020</td>\n",
       "      <td>609</td>\n",
       "      <td>2</td>\n",
       "      <td>150</td>\n",
       "      <td>49.6</td>\n",
       "      <td>1.0</td>\n",
       "    </tr>\n",
       "    <tr>\n",
       "      <th>10666</th>\n",
       "      <td>1.0</td>\n",
       "      <td>0.0</td>\n",
       "      <td>0.0</td>\n",
       "      <td>9</td>\n",
       "      <td>2017</td>\n",
       "      <td>8646</td>\n",
       "      <td>2</td>\n",
       "      <td>150</td>\n",
       "      <td>47.9</td>\n",
       "      <td>1.4</td>\n",
       "    </tr>\n",
       "    <tr>\n",
       "      <th>10667</th>\n",
       "      <td>0.0</td>\n",
       "      <td>1.0</td>\n",
       "      <td>0.0</td>\n",
       "      <td>9</td>\n",
       "      <td>2016</td>\n",
       "      <td>11855</td>\n",
       "      <td>2</td>\n",
       "      <td>150</td>\n",
       "      <td>47.9</td>\n",
       "      <td>1.4</td>\n",
       "    </tr>\n",
       "  </tbody>\n",
       "</table>\n",
       "<p>10668 rows × 10 columns</p>\n",
       "</div>"
      ],
      "text/plain": [
       "         0    1    2  3     4      5  6    7     8    9\n",
       "0      0.0  1.0  0.0  0  2017  15735  2  150  55.4  1.4\n",
       "1      1.0  0.0  0.0  5  2016  36203  0   20  64.2  2.0\n",
       "2      0.0  1.0  0.0  0  2016  29946  2   30  55.4  1.4\n",
       "3      1.0  0.0  0.0  3  2017  25952  0  145  67.3  2.0\n",
       "4      0.0  1.0  0.0  2  2019   1998  2  145  49.6  1.0\n",
       "...    ...  ...  ... ..   ...    ... ..  ...   ...  ...\n",
       "10663  0.0  1.0  0.0  2  2020   4018  2  145  49.6  1.0\n",
       "10664  0.0  1.0  0.0  2  2020   1978  2  150  49.6  1.0\n",
       "10665  0.0  1.0  0.0  2  2020    609  2  150  49.6  1.0\n",
       "10666  1.0  0.0  0.0  9  2017   8646  2  150  47.9  1.4\n",
       "10667  0.0  1.0  0.0  9  2016  11855  2  150  47.9  1.4\n",
       "\n",
       "[10668 rows x 10 columns]"
      ]
     },
     "metadata": {},
     "output_type": "display_data"
    }
   ],
   "source": [
    "display (pd.DataFrame(x))"
   ]
  },
  {
   "cell_type": "code",
   "execution_count": 15,
   "id": "fb56b20e",
   "metadata": {},
   "outputs": [
    {
     "data": {
      "text/html": [
       "<div>\n",
       "<style scoped>\n",
       "    .dataframe tbody tr th:only-of-type {\n",
       "        vertical-align: middle;\n",
       "    }\n",
       "\n",
       "    .dataframe tbody tr th {\n",
       "        vertical-align: top;\n",
       "    }\n",
       "\n",
       "    .dataframe thead th {\n",
       "        text-align: right;\n",
       "    }\n",
       "</style>\n",
       "<table border=\"1\" class=\"dataframe\">\n",
       "  <thead>\n",
       "    <tr style=\"text-align: right;\">\n",
       "      <th></th>\n",
       "      <th>0</th>\n",
       "      <th>1</th>\n",
       "      <th>2</th>\n",
       "      <th>3</th>\n",
       "      <th>4</th>\n",
       "      <th>5</th>\n",
       "      <th>6</th>\n",
       "      <th>7</th>\n",
       "      <th>8</th>\n",
       "      <th>9</th>\n",
       "    </tr>\n",
       "  </thead>\n",
       "  <tbody>\n",
       "    <tr>\n",
       "      <th>0</th>\n",
       "      <td>-0.583268</td>\n",
       "      <td>1.200728</td>\n",
       "      <td>-0.712333</td>\n",
       "      <td>-1.123544</td>\n",
       "      <td>-0.046450</td>\n",
       "      <td>-0.386836</td>\n",
       "      <td>1.050783</td>\n",
       "      <td>0.357147</td>\n",
       "      <td>0.357550</td>\n",
       "      <td>-0.880218</td>\n",
       "    </tr>\n",
       "    <tr>\n",
       "      <th>1</th>\n",
       "      <td>1.714479</td>\n",
       "      <td>-0.832828</td>\n",
       "      <td>-0.712333</td>\n",
       "      <td>-0.160831</td>\n",
       "      <td>-0.507834</td>\n",
       "      <td>0.483989</td>\n",
       "      <td>-0.954181</td>\n",
       "      <td>-1.578323</td>\n",
       "      <td>1.037130</td>\n",
       "      <td>0.114925</td>\n",
       "    </tr>\n",
       "    <tr>\n",
       "      <th>2</th>\n",
       "      <td>-0.583268</td>\n",
       "      <td>1.200728</td>\n",
       "      <td>-0.712333</td>\n",
       "      <td>-1.123544</td>\n",
       "      <td>-0.507834</td>\n",
       "      <td>0.217781</td>\n",
       "      <td>1.050783</td>\n",
       "      <td>-1.429440</td>\n",
       "      <td>0.357550</td>\n",
       "      <td>-0.880218</td>\n",
       "    </tr>\n",
       "    <tr>\n",
       "      <th>3</th>\n",
       "      <td>1.714479</td>\n",
       "      <td>-0.832828</td>\n",
       "      <td>-0.712333</td>\n",
       "      <td>-0.545916</td>\n",
       "      <td>-0.046450</td>\n",
       "      <td>0.047853</td>\n",
       "      <td>-0.954181</td>\n",
       "      <td>0.282706</td>\n",
       "      <td>1.276528</td>\n",
       "      <td>0.114925</td>\n",
       "    </tr>\n",
       "    <tr>\n",
       "      <th>4</th>\n",
       "      <td>-0.583268</td>\n",
       "      <td>1.200728</td>\n",
       "      <td>-0.712333</td>\n",
       "      <td>-0.738459</td>\n",
       "      <td>0.876318</td>\n",
       "      <td>-0.971285</td>\n",
       "      <td>1.050783</td>\n",
       "      <td>0.282706</td>\n",
       "      <td>-0.090355</td>\n",
       "      <td>-1.543647</td>\n",
       "    </tr>\n",
       "    <tr>\n",
       "      <th>...</th>\n",
       "      <td>...</td>\n",
       "      <td>...</td>\n",
       "      <td>...</td>\n",
       "      <td>...</td>\n",
       "      <td>...</td>\n",
       "      <td>...</td>\n",
       "      <td>...</td>\n",
       "      <td>...</td>\n",
       "      <td>...</td>\n",
       "      <td>...</td>\n",
       "    </tr>\n",
       "    <tr>\n",
       "      <th>10663</th>\n",
       "      <td>-0.583268</td>\n",
       "      <td>1.200728</td>\n",
       "      <td>-0.712333</td>\n",
       "      <td>-0.738459</td>\n",
       "      <td>1.337702</td>\n",
       "      <td>-0.885343</td>\n",
       "      <td>1.050783</td>\n",
       "      <td>0.282706</td>\n",
       "      <td>-0.090355</td>\n",
       "      <td>-1.543647</td>\n",
       "    </tr>\n",
       "    <tr>\n",
       "      <th>10664</th>\n",
       "      <td>-0.583268</td>\n",
       "      <td>1.200728</td>\n",
       "      <td>-0.712333</td>\n",
       "      <td>-0.738459</td>\n",
       "      <td>1.337702</td>\n",
       "      <td>-0.972136</td>\n",
       "      <td>1.050783</td>\n",
       "      <td>0.357147</td>\n",
       "      <td>-0.090355</td>\n",
       "      <td>-1.543647</td>\n",
       "    </tr>\n",
       "    <tr>\n",
       "      <th>10665</th>\n",
       "      <td>-0.583268</td>\n",
       "      <td>1.200728</td>\n",
       "      <td>-0.712333</td>\n",
       "      <td>-0.738459</td>\n",
       "      <td>1.337702</td>\n",
       "      <td>-1.030381</td>\n",
       "      <td>1.050783</td>\n",
       "      <td>0.357147</td>\n",
       "      <td>-0.090355</td>\n",
       "      <td>-1.543647</td>\n",
       "    </tr>\n",
       "    <tr>\n",
       "      <th>10666</th>\n",
       "      <td>1.714479</td>\n",
       "      <td>-0.832828</td>\n",
       "      <td>-0.712333</td>\n",
       "      <td>0.609339</td>\n",
       "      <td>-0.046450</td>\n",
       "      <td>-0.688442</td>\n",
       "      <td>1.050783</td>\n",
       "      <td>0.357147</td>\n",
       "      <td>-0.221637</td>\n",
       "      <td>-0.880218</td>\n",
       "    </tr>\n",
       "    <tr>\n",
       "      <th>10667</th>\n",
       "      <td>-0.583268</td>\n",
       "      <td>1.200728</td>\n",
       "      <td>-0.712333</td>\n",
       "      <td>0.609339</td>\n",
       "      <td>-0.507834</td>\n",
       "      <td>-0.551913</td>\n",
       "      <td>1.050783</td>\n",
       "      <td>0.357147</td>\n",
       "      <td>-0.221637</td>\n",
       "      <td>-0.880218</td>\n",
       "    </tr>\n",
       "  </tbody>\n",
       "</table>\n",
       "<p>10668 rows × 10 columns</p>\n",
       "</div>"
      ],
      "text/plain": [
       "              0         1         2         3         4         5         6  \\\n",
       "0     -0.583268  1.200728 -0.712333 -1.123544 -0.046450 -0.386836  1.050783   \n",
       "1      1.714479 -0.832828 -0.712333 -0.160831 -0.507834  0.483989 -0.954181   \n",
       "2     -0.583268  1.200728 -0.712333 -1.123544 -0.507834  0.217781  1.050783   \n",
       "3      1.714479 -0.832828 -0.712333 -0.545916 -0.046450  0.047853 -0.954181   \n",
       "4     -0.583268  1.200728 -0.712333 -0.738459  0.876318 -0.971285  1.050783   \n",
       "...         ...       ...       ...       ...       ...       ...       ...   \n",
       "10663 -0.583268  1.200728 -0.712333 -0.738459  1.337702 -0.885343  1.050783   \n",
       "10664 -0.583268  1.200728 -0.712333 -0.738459  1.337702 -0.972136  1.050783   \n",
       "10665 -0.583268  1.200728 -0.712333 -0.738459  1.337702 -1.030381  1.050783   \n",
       "10666  1.714479 -0.832828 -0.712333  0.609339 -0.046450 -0.688442  1.050783   \n",
       "10667 -0.583268  1.200728 -0.712333  0.609339 -0.507834 -0.551913  1.050783   \n",
       "\n",
       "              7         8         9  \n",
       "0      0.357147  0.357550 -0.880218  \n",
       "1     -1.578323  1.037130  0.114925  \n",
       "2     -1.429440  0.357550 -0.880218  \n",
       "3      0.282706  1.276528  0.114925  \n",
       "4      0.282706 -0.090355 -1.543647  \n",
       "...         ...       ...       ...  \n",
       "10663  0.282706 -0.090355 -1.543647  \n",
       "10664  0.357147 -0.090355 -1.543647  \n",
       "10665  0.357147 -0.090355 -1.543647  \n",
       "10666  0.357147 -0.221637 -0.880218  \n",
       "10667  0.357147 -0.221637 -0.880218  \n",
       "\n",
       "[10668 rows x 10 columns]"
      ]
     },
     "metadata": {},
     "output_type": "display_data"
    }
   ],
   "source": [
    "from sklearn.preprocessing import StandardScaler\n",
    "sc = StandardScaler()\n",
    "x = sc.fit_transform(x)\n",
    "display (pd.DataFrame(x))"
   ]
  },
  {
   "cell_type": "code",
   "execution_count": 16,
   "id": "dd8ac13b",
   "metadata": {},
   "outputs": [
    {
     "name": "stdout",
     "output_type": "stream",
     "text": [
      "(10668, 10) (10668, 1)\n",
      "(8534, 10) (8534, 1)\n",
      "(2134, 10) (2134, 1)\n"
     ]
    }
   ],
   "source": [
    "from sklearn.model_selection import train_test_split\n",
    "(x_train,x_test,y_train,y_test) = train_test_split(x,y,test_size=0.2,random_state=0)\n",
    "print (x.shape, y.shape)\n",
    "print (x_train.shape, y_train.shape)\n",
    "print (x_test.shape, y_test.shape)"
   ]
  },
  {
   "cell_type": "markdown",
   "id": "b874e06f",
   "metadata": {},
   "source": [
    "### Linear Regression"
   ]
  },
  {
   "cell_type": "code",
   "execution_count": 17,
   "id": "6b294a1d",
   "metadata": {},
   "outputs": [
    {
     "data": {
      "text/plain": [
       "0.7907163780917994"
      ]
     },
     "execution_count": 17,
     "metadata": {},
     "output_type": "execute_result"
    }
   ],
   "source": [
    "from sklearn.linear_model import LinearRegression\n",
    "from sklearn.metrics import r2_score\n",
    "lr=LinearRegression()\n",
    "lr.fit(x_train,y_train)\n",
    "y_pred=lr.predict(x)\n",
    "acc=r2_score(y,y_pred)\n",
    "acc"
   ]
  },
  {
   "cell_type": "markdown",
   "id": "31ad717a",
   "metadata": {},
   "source": [
    "### Polynomial Regression"
   ]
  },
  {
   "cell_type": "code",
   "execution_count": 18,
   "id": "ed36e6a9",
   "metadata": {},
   "outputs": [
    {
     "name": "stdout",
     "output_type": "stream",
     "text": [
      "-3607429056635.771\n"
     ]
    }
   ],
   "source": [
    "from sklearn.preprocessing import PolynomialFeatures \n",
    "poly = PolynomialFeatures(degree = 4) \n",
    "x_poly = poly.fit_transform(x)\n",
    "from sklearn.model_selection import train_test_split\n",
    "xpoly_train, xpoly_test, ypoly_train, ypoly_test = train_test_split(x_poly, y, test_size=0.3, random_state=0)\n",
    "PolyReg4 = LinearRegression() \n",
    "PolyReg4.fit(xpoly_train, ypoly_train)\n",
    "ypoly_pred4 = PolyReg4.predict(x_poly)\n",
    "accuracy4 = r2_score(y,ypoly_pred4)\n",
    "print (accuracy4)"
   ]
  },
  {
   "cell_type": "markdown",
   "id": "d94310fc",
   "metadata": {},
   "source": [
    "### Logistic Regression"
   ]
  },
  {
   "cell_type": "code",
   "execution_count": 19,
   "id": "53902f22",
   "metadata": {},
   "outputs": [
    {
     "name": "stdout",
     "output_type": "stream",
     "text": [
      "Accuracy::  0.0390888638920135\n"
     ]
    }
   ],
   "source": [
    "from sklearn.linear_model import LogisticRegression\n",
    "from sklearn.metrics import accuracy_score\n",
    "from sklearn.metrics import confusion_matrix \n",
    "from sklearn.metrics import classification_report\n",
    "\n",
    "lr=LogisticRegression()\n",
    "lr.fit(x_train,y_train)\n",
    "y_pred=lr.predict(x)\n",
    "acc=accuracy_score(y,y_pred)\n",
    "print(\"Accuracy:: \",acc)"
   ]
  },
  {
   "cell_type": "markdown",
   "id": "d18d20de",
   "metadata": {},
   "source": [
    "### Decision Tree"
   ]
  },
  {
   "cell_type": "code",
   "execution_count": 20,
   "id": "d4ec2ec4",
   "metadata": {},
   "outputs": [
    {
     "data": {
      "text/plain": [
       "0.9925207792256503"
      ]
     },
     "execution_count": 20,
     "metadata": {},
     "output_type": "execute_result"
    }
   ],
   "source": [
    "from sklearn.tree import DecisionTreeRegressor\n",
    "dt= DecisionTreeRegressor(min_samples_split=5)\n",
    "dt.fit(x,y)\n",
    "y_pred=dt.predict(x)\n",
    "acc=r2_score(y,y_pred)\n",
    "acc"
   ]
  },
  {
   "cell_type": "code",
   "execution_count": 21,
   "id": "13e42bf1",
   "metadata": {},
   "outputs": [
    {
     "data": {
      "text/html": [
       "<div>\n",
       "<style scoped>\n",
       "    .dataframe tbody tr th:only-of-type {\n",
       "        vertical-align: middle;\n",
       "    }\n",
       "\n",
       "    .dataframe tbody tr th {\n",
       "        vertical-align: top;\n",
       "    }\n",
       "\n",
       "    .dataframe thead th {\n",
       "        text-align: right;\n",
       "    }\n",
       "</style>\n",
       "<table border=\"1\" class=\"dataframe\">\n",
       "  <thead>\n",
       "    <tr style=\"text-align: right;\">\n",
       "      <th></th>\n",
       "      <th>0</th>\n",
       "    </tr>\n",
       "  </thead>\n",
       "  <tbody>\n",
       "    <tr>\n",
       "      <th>0</th>\n",
       "      <td>12830.000000</td>\n",
       "    </tr>\n",
       "    <tr>\n",
       "      <th>1</th>\n",
       "      <td>16934.500000</td>\n",
       "    </tr>\n",
       "    <tr>\n",
       "      <th>2</th>\n",
       "      <td>11764.750000</td>\n",
       "    </tr>\n",
       "    <tr>\n",
       "      <th>3</th>\n",
       "      <td>17299.666667</td>\n",
       "    </tr>\n",
       "    <tr>\n",
       "      <th>4</th>\n",
       "      <td>16666.333333</td>\n",
       "    </tr>\n",
       "    <tr>\n",
       "      <th>...</th>\n",
       "      <td>...</td>\n",
       "    </tr>\n",
       "    <tr>\n",
       "      <th>10663</th>\n",
       "      <td>17620.750000</td>\n",
       "    </tr>\n",
       "    <tr>\n",
       "      <th>10664</th>\n",
       "      <td>16666.333333</td>\n",
       "    </tr>\n",
       "    <tr>\n",
       "      <th>10665</th>\n",
       "      <td>19099.500000</td>\n",
       "    </tr>\n",
       "    <tr>\n",
       "      <th>10666</th>\n",
       "      <td>19749.000000</td>\n",
       "    </tr>\n",
       "    <tr>\n",
       "      <th>10667</th>\n",
       "      <td>15999.000000</td>\n",
       "    </tr>\n",
       "  </tbody>\n",
       "</table>\n",
       "<p>10668 rows × 1 columns</p>\n",
       "</div>"
      ],
      "text/plain": [
       "                  0\n",
       "0      12830.000000\n",
       "1      16934.500000\n",
       "2      11764.750000\n",
       "3      17299.666667\n",
       "4      16666.333333\n",
       "...             ...\n",
       "10663  17620.750000\n",
       "10664  16666.333333\n",
       "10665  19099.500000\n",
       "10666  19749.000000\n",
       "10667  15999.000000\n",
       "\n",
       "[10668 rows x 1 columns]"
      ]
     },
     "execution_count": 21,
     "metadata": {},
     "output_type": "execute_result"
    }
   ],
   "source": [
    "pd.DataFrame(y_pred)"
   ]
  },
  {
   "cell_type": "code",
   "execution_count": 22,
   "id": "96d1db22",
   "metadata": {},
   "outputs": [
    {
     "data": {
      "text/html": [
       "<div>\n",
       "<style scoped>\n",
       "    .dataframe tbody tr th:only-of-type {\n",
       "        vertical-align: middle;\n",
       "    }\n",
       "\n",
       "    .dataframe tbody tr th {\n",
       "        vertical-align: top;\n",
       "    }\n",
       "\n",
       "    .dataframe thead th {\n",
       "        text-align: right;\n",
       "    }\n",
       "</style>\n",
       "<table border=\"1\" class=\"dataframe\">\n",
       "  <thead>\n",
       "    <tr style=\"text-align: right;\">\n",
       "      <th></th>\n",
       "      <th>0</th>\n",
       "      <th>1</th>\n",
       "    </tr>\n",
       "  </thead>\n",
       "  <tbody>\n",
       "    <tr>\n",
       "      <th>0</th>\n",
       "      <td>12830.000000</td>\n",
       "      <td>12500.0</td>\n",
       "    </tr>\n",
       "    <tr>\n",
       "      <th>1</th>\n",
       "      <td>16934.500000</td>\n",
       "      <td>16500.0</td>\n",
       "    </tr>\n",
       "    <tr>\n",
       "      <th>2</th>\n",
       "      <td>11764.750000</td>\n",
       "      <td>11000.0</td>\n",
       "    </tr>\n",
       "    <tr>\n",
       "      <th>3</th>\n",
       "      <td>17299.666667</td>\n",
       "      <td>16800.0</td>\n",
       "    </tr>\n",
       "    <tr>\n",
       "      <th>4</th>\n",
       "      <td>16666.333333</td>\n",
       "      <td>17300.0</td>\n",
       "    </tr>\n",
       "    <tr>\n",
       "      <th>...</th>\n",
       "      <td>...</td>\n",
       "      <td>...</td>\n",
       "    </tr>\n",
       "    <tr>\n",
       "      <th>10663</th>\n",
       "      <td>17620.750000</td>\n",
       "      <td>16999.0</td>\n",
       "    </tr>\n",
       "    <tr>\n",
       "      <th>10664</th>\n",
       "      <td>16666.333333</td>\n",
       "      <td>16999.0</td>\n",
       "    </tr>\n",
       "    <tr>\n",
       "      <th>10665</th>\n",
       "      <td>19099.500000</td>\n",
       "      <td>17199.0</td>\n",
       "    </tr>\n",
       "    <tr>\n",
       "      <th>10666</th>\n",
       "      <td>19749.000000</td>\n",
       "      <td>19499.0</td>\n",
       "    </tr>\n",
       "    <tr>\n",
       "      <th>10667</th>\n",
       "      <td>15999.000000</td>\n",
       "      <td>15999.0</td>\n",
       "    </tr>\n",
       "  </tbody>\n",
       "</table>\n",
       "<p>10668 rows × 2 columns</p>\n",
       "</div>"
      ],
      "text/plain": [
       "                  0        1\n",
       "0      12830.000000  12500.0\n",
       "1      16934.500000  16500.0\n",
       "2      11764.750000  11000.0\n",
       "3      17299.666667  16800.0\n",
       "4      16666.333333  17300.0\n",
       "...             ...      ...\n",
       "10663  17620.750000  16999.0\n",
       "10664  16666.333333  16999.0\n",
       "10665  19099.500000  17199.0\n",
       "10666  19749.000000  19499.0\n",
       "10667  15999.000000  15999.0\n",
       "\n",
       "[10668 rows x 2 columns]"
      ]
     },
     "execution_count": 22,
     "metadata": {},
     "output_type": "execute_result"
    }
   ],
   "source": [
    "data=np.concatenate((y_pred.reshape(len(y_pred),1),y.reshape(len(y),1)),1)\n",
    "pd.DataFrame(data)"
   ]
  },
  {
   "cell_type": "code",
   "execution_count": 23,
   "id": "a8cc881a",
   "metadata": {},
   "outputs": [
    {
     "data": {
      "text/plain": [
       "0.9843722324155303"
      ]
     },
     "execution_count": 23,
     "metadata": {},
     "output_type": "execute_result"
    }
   ],
   "source": [
    "from sklearn.tree import DecisionTreeRegressor\n",
    "dt= DecisionTreeRegressor(min_samples_split=8)\n",
    "dt.fit(x,y)\n",
    "y_pred=dt.predict(x)\n",
    "acc=r2_score(y,y_pred)\n",
    "acc"
   ]
  },
  {
   "cell_type": "code",
   "execution_count": 24,
   "id": "b2021cc5",
   "metadata": {},
   "outputs": [
    {
     "data": {
      "text/plain": [
       "0.9967224126979892"
      ]
     },
     "execution_count": 24,
     "metadata": {},
     "output_type": "execute_result"
    }
   ],
   "source": [
    "from sklearn.tree import DecisionTreeRegressor\n",
    "dt= DecisionTreeRegressor(min_samples_split=3)\n",
    "dt.fit(x,y)\n",
    "y_pred=dt.predict(x)\n",
    "acc=r2_score(y,y_pred)\n",
    "acc"
   ]
  },
  {
   "cell_type": "code",
   "execution_count": 25,
   "id": "d60b00a3",
   "metadata": {},
   "outputs": [
    {
     "data": {
      "text/plain": [
       "0.9987853307224878"
      ]
     },
     "execution_count": 25,
     "metadata": {},
     "output_type": "execute_result"
    }
   ],
   "source": [
    "from sklearn.tree import DecisionTreeRegressor\n",
    "dt= DecisionTreeRegressor(min_samples_split=1)\n",
    "dt.fit(x,y)\n",
    "y_pred=dt.predict(x)\n",
    "acc=r2_score(y,y_pred)\n",
    "acc"
   ]
  },
  {
   "cell_type": "code",
   "execution_count": 26,
   "id": "2f206ab0",
   "metadata": {},
   "outputs": [
    {
     "data": {
      "text/html": [
       "<div>\n",
       "<style scoped>\n",
       "    .dataframe tbody tr th:only-of-type {\n",
       "        vertical-align: middle;\n",
       "    }\n",
       "\n",
       "    .dataframe tbody tr th {\n",
       "        vertical-align: top;\n",
       "    }\n",
       "\n",
       "    .dataframe thead th {\n",
       "        text-align: right;\n",
       "    }\n",
       "</style>\n",
       "<table border=\"1\" class=\"dataframe\">\n",
       "  <thead>\n",
       "    <tr style=\"text-align: right;\">\n",
       "      <th></th>\n",
       "      <th>model</th>\n",
       "      <th>year</th>\n",
       "      <th>price</th>\n",
       "      <th>transmission</th>\n",
       "      <th>mileage</th>\n",
       "      <th>fuelType</th>\n",
       "      <th>tax</th>\n",
       "      <th>mpg</th>\n",
       "      <th>engineSize</th>\n",
       "      <th>0</th>\n",
       "    </tr>\n",
       "  </thead>\n",
       "  <tbody>\n",
       "    <tr>\n",
       "      <th>0</th>\n",
       "      <td>A1</td>\n",
       "      <td>2017</td>\n",
       "      <td>12500</td>\n",
       "      <td>Manual</td>\n",
       "      <td>15735</td>\n",
       "      <td>Petrol</td>\n",
       "      <td>150</td>\n",
       "      <td>55.4</td>\n",
       "      <td>1.4</td>\n",
       "      <td>12500.0</td>\n",
       "    </tr>\n",
       "    <tr>\n",
       "      <th>1</th>\n",
       "      <td>A6</td>\n",
       "      <td>2016</td>\n",
       "      <td>16500</td>\n",
       "      <td>Automatic</td>\n",
       "      <td>36203</td>\n",
       "      <td>Diesel</td>\n",
       "      <td>20</td>\n",
       "      <td>64.2</td>\n",
       "      <td>2.0</td>\n",
       "      <td>16500.0</td>\n",
       "    </tr>\n",
       "    <tr>\n",
       "      <th>2</th>\n",
       "      <td>A1</td>\n",
       "      <td>2016</td>\n",
       "      <td>11000</td>\n",
       "      <td>Manual</td>\n",
       "      <td>29946</td>\n",
       "      <td>Petrol</td>\n",
       "      <td>30</td>\n",
       "      <td>55.4</td>\n",
       "      <td>1.4</td>\n",
       "      <td>11000.0</td>\n",
       "    </tr>\n",
       "    <tr>\n",
       "      <th>3</th>\n",
       "      <td>A4</td>\n",
       "      <td>2017</td>\n",
       "      <td>16800</td>\n",
       "      <td>Automatic</td>\n",
       "      <td>25952</td>\n",
       "      <td>Diesel</td>\n",
       "      <td>145</td>\n",
       "      <td>67.3</td>\n",
       "      <td>2.0</td>\n",
       "      <td>16800.0</td>\n",
       "    </tr>\n",
       "    <tr>\n",
       "      <th>4</th>\n",
       "      <td>A3</td>\n",
       "      <td>2019</td>\n",
       "      <td>17300</td>\n",
       "      <td>Manual</td>\n",
       "      <td>1998</td>\n",
       "      <td>Petrol</td>\n",
       "      <td>145</td>\n",
       "      <td>49.6</td>\n",
       "      <td>1.0</td>\n",
       "      <td>17300.0</td>\n",
       "    </tr>\n",
       "    <tr>\n",
       "      <th>...</th>\n",
       "      <td>...</td>\n",
       "      <td>...</td>\n",
       "      <td>...</td>\n",
       "      <td>...</td>\n",
       "      <td>...</td>\n",
       "      <td>...</td>\n",
       "      <td>...</td>\n",
       "      <td>...</td>\n",
       "      <td>...</td>\n",
       "      <td>...</td>\n",
       "    </tr>\n",
       "    <tr>\n",
       "      <th>10663</th>\n",
       "      <td>A3</td>\n",
       "      <td>2020</td>\n",
       "      <td>16999</td>\n",
       "      <td>Manual</td>\n",
       "      <td>4018</td>\n",
       "      <td>Petrol</td>\n",
       "      <td>145</td>\n",
       "      <td>49.6</td>\n",
       "      <td>1.0</td>\n",
       "      <td>16999.0</td>\n",
       "    </tr>\n",
       "    <tr>\n",
       "      <th>10664</th>\n",
       "      <td>A3</td>\n",
       "      <td>2020</td>\n",
       "      <td>16999</td>\n",
       "      <td>Manual</td>\n",
       "      <td>1978</td>\n",
       "      <td>Petrol</td>\n",
       "      <td>150</td>\n",
       "      <td>49.6</td>\n",
       "      <td>1.0</td>\n",
       "      <td>16999.0</td>\n",
       "    </tr>\n",
       "    <tr>\n",
       "      <th>10665</th>\n",
       "      <td>A3</td>\n",
       "      <td>2020</td>\n",
       "      <td>17199</td>\n",
       "      <td>Manual</td>\n",
       "      <td>609</td>\n",
       "      <td>Petrol</td>\n",
       "      <td>150</td>\n",
       "      <td>49.6</td>\n",
       "      <td>1.0</td>\n",
       "      <td>17199.0</td>\n",
       "    </tr>\n",
       "    <tr>\n",
       "      <th>10666</th>\n",
       "      <td>Q3</td>\n",
       "      <td>2017</td>\n",
       "      <td>19499</td>\n",
       "      <td>Automatic</td>\n",
       "      <td>8646</td>\n",
       "      <td>Petrol</td>\n",
       "      <td>150</td>\n",
       "      <td>47.9</td>\n",
       "      <td>1.4</td>\n",
       "      <td>19499.0</td>\n",
       "    </tr>\n",
       "    <tr>\n",
       "      <th>10667</th>\n",
       "      <td>Q3</td>\n",
       "      <td>2016</td>\n",
       "      <td>15999</td>\n",
       "      <td>Manual</td>\n",
       "      <td>11855</td>\n",
       "      <td>Petrol</td>\n",
       "      <td>150</td>\n",
       "      <td>47.9</td>\n",
       "      <td>1.4</td>\n",
       "      <td>15999.0</td>\n",
       "    </tr>\n",
       "  </tbody>\n",
       "</table>\n",
       "<p>10668 rows × 10 columns</p>\n",
       "</div>"
      ],
      "text/plain": [
       "      model  year  price transmission  mileage fuelType  tax   mpg  \\\n",
       "0        A1  2017  12500       Manual    15735   Petrol  150  55.4   \n",
       "1        A6  2016  16500    Automatic    36203   Diesel   20  64.2   \n",
       "2        A1  2016  11000       Manual    29946   Petrol   30  55.4   \n",
       "3        A4  2017  16800    Automatic    25952   Diesel  145  67.3   \n",
       "4        A3  2019  17300       Manual     1998   Petrol  145  49.6   \n",
       "...     ...   ...    ...          ...      ...      ...  ...   ...   \n",
       "10663    A3  2020  16999       Manual     4018   Petrol  145  49.6   \n",
       "10664    A3  2020  16999       Manual     1978   Petrol  150  49.6   \n",
       "10665    A3  2020  17199       Manual      609   Petrol  150  49.6   \n",
       "10666    Q3  2017  19499    Automatic     8646   Petrol  150  47.9   \n",
       "10667    Q3  2016  15999       Manual    11855   Petrol  150  47.9   \n",
       "\n",
       "       engineSize        0  \n",
       "0             1.4  12500.0  \n",
       "1             2.0  16500.0  \n",
       "2             1.4  11000.0  \n",
       "3             2.0  16800.0  \n",
       "4             1.0  17300.0  \n",
       "...           ...      ...  \n",
       "10663         1.0  16999.0  \n",
       "10664         1.0  16999.0  \n",
       "10665         1.0  17199.0  \n",
       "10666         1.4  19499.0  \n",
       "10667         1.4  15999.0  \n",
       "\n",
       "[10668 rows x 10 columns]"
      ]
     },
     "metadata": {},
     "output_type": "display_data"
    }
   ],
   "source": [
    "result = pd.concat([df,pd.DataFrame(y_pred)],axis=1)\n",
    "display( result)"
   ]
  },
  {
   "cell_type": "markdown",
   "id": "b77ef4b3",
   "metadata": {},
   "source": [
    "### With Cross Validation"
   ]
  },
  {
   "cell_type": "code",
   "execution_count": 27,
   "id": "b985665e",
   "metadata": {},
   "outputs": [
    {
     "name": "stdout",
     "output_type": "stream",
     "text": [
      "          0\n",
      "0  0.920119\n",
      "1  0.917244\n",
      "2  0.927212\n",
      "3  0.909848\n",
      "4  0.907183\n"
     ]
    }
   ],
   "source": [
    "from sklearn.model_selection import cross_val_score\n",
    "dt= DecisionTreeRegressor(min_samples_split=1)\n",
    "dt_accuracies = cross_val_score(dt, x, y, cv=5)\n",
    "print (pd.DataFrame(dt_accuracies))"
   ]
  },
  {
   "cell_type": "code",
   "execution_count": 28,
   "id": "d603a2d6",
   "metadata": {},
   "outputs": [
    {
     "name": "stdout",
     "output_type": "stream",
     "text": [
      "Mean 0.9163212829297915\n",
      "STD 0.007201251507859204\n"
     ]
    }
   ],
   "source": [
    "print ('Mean', dt_accuracies.mean())\n",
    "print ('STD',dt_accuracies.std())\n"
   ]
  },
  {
   "cell_type": "code",
   "execution_count": 29,
   "id": "1e78a002",
   "metadata": {},
   "outputs": [
    {
     "name": "stdout",
     "output_type": "stream",
     "text": [
      "          0\n",
      "0  0.920602\n",
      "1  0.921106\n",
      "2  0.926736\n",
      "3  0.912262\n",
      "4  0.910960\n",
      "Mean 0.9183332196778113\n",
      "STD 0.005910456483503964\n"
     ]
    }
   ],
   "source": [
    "from sklearn.model_selection import cross_val_score\n",
    "dt= DecisionTreeRegressor(min_samples_split=3)\n",
    "dt_accuracies = cross_val_score(dt, x, y, cv=5)\n",
    "print (pd.DataFrame(dt_accuracies))\n",
    "print ('Mean', dt_accuracies.mean())\n",
    "print ('STD',dt_accuracies.std())\n"
   ]
  },
  {
   "cell_type": "code",
   "execution_count": 30,
   "id": "98789c0e",
   "metadata": {},
   "outputs": [
    {
     "name": "stdout",
     "output_type": "stream",
     "text": [
      "          0\n",
      "0  0.928518\n",
      "1  0.926183\n",
      "2  0.933037\n",
      "3  0.924195\n",
      "4  0.908193\n",
      "Mean 0.924025125401198\n",
      "STD 0.008446796649684547\n"
     ]
    }
   ],
   "source": [
    "from sklearn.model_selection import cross_val_score\n",
    "dt= DecisionTreeRegressor(min_samples_split=5)\n",
    "dt_accuracies = cross_val_score(dt, x, y, cv=5)\n",
    "print (pd.DataFrame(dt_accuracies))\n",
    "print ('Mean', dt_accuracies.mean())\n",
    "print ('STD',dt_accuracies.std())\n"
   ]
  },
  {
   "cell_type": "code",
   "execution_count": 31,
   "id": "00eccfc1",
   "metadata": {},
   "outputs": [
    {
     "name": "stdout",
     "output_type": "stream",
     "text": [
      "          0\n",
      "0  0.930799\n",
      "1  0.917323\n",
      "2  0.936011\n",
      "3  0.924118\n",
      "4  0.904432\n",
      "Mean 0.9225366072572921\n",
      "STD 0.011021018600646061\n"
     ]
    }
   ],
   "source": [
    "from sklearn.model_selection import cross_val_score\n",
    "dt= DecisionTreeRegressor(min_samples_split=8)\n",
    "dt_accuracies = cross_val_score(dt, x, y, cv=5)\n",
    "print (pd.DataFrame(dt_accuracies))\n",
    "print ('Mean', dt_accuracies.mean())\n",
    "print ('STD',dt_accuracies.std())\n"
   ]
  },
  {
   "cell_type": "code",
   "execution_count": 32,
   "id": "08d59c3a",
   "metadata": {},
   "outputs": [
    {
     "data": {
      "text/html": [
       "<div>\n",
       "<style scoped>\n",
       "    .dataframe tbody tr th:only-of-type {\n",
       "        vertical-align: middle;\n",
       "    }\n",
       "\n",
       "    .dataframe tbody tr th {\n",
       "        vertical-align: top;\n",
       "    }\n",
       "\n",
       "    .dataframe thead th {\n",
       "        text-align: right;\n",
       "    }\n",
       "</style>\n",
       "<table border=\"1\" class=\"dataframe\">\n",
       "  <thead>\n",
       "    <tr style=\"text-align: right;\">\n",
       "      <th></th>\n",
       "      <th>model</th>\n",
       "      <th>year</th>\n",
       "      <th>price</th>\n",
       "      <th>transmission</th>\n",
       "      <th>mileage</th>\n",
       "      <th>fuelType</th>\n",
       "      <th>tax</th>\n",
       "      <th>mpg</th>\n",
       "      <th>engineSize</th>\n",
       "      <th>0</th>\n",
       "    </tr>\n",
       "  </thead>\n",
       "  <tbody>\n",
       "    <tr>\n",
       "      <th>0</th>\n",
       "      <td>A1</td>\n",
       "      <td>2017</td>\n",
       "      <td>12500</td>\n",
       "      <td>Manual</td>\n",
       "      <td>15735</td>\n",
       "      <td>Petrol</td>\n",
       "      <td>150</td>\n",
       "      <td>55.4</td>\n",
       "      <td>1.4</td>\n",
       "      <td>12500.0</td>\n",
       "    </tr>\n",
       "    <tr>\n",
       "      <th>1</th>\n",
       "      <td>A6</td>\n",
       "      <td>2016</td>\n",
       "      <td>16500</td>\n",
       "      <td>Automatic</td>\n",
       "      <td>36203</td>\n",
       "      <td>Diesel</td>\n",
       "      <td>20</td>\n",
       "      <td>64.2</td>\n",
       "      <td>2.0</td>\n",
       "      <td>16500.0</td>\n",
       "    </tr>\n",
       "    <tr>\n",
       "      <th>2</th>\n",
       "      <td>A1</td>\n",
       "      <td>2016</td>\n",
       "      <td>11000</td>\n",
       "      <td>Manual</td>\n",
       "      <td>29946</td>\n",
       "      <td>Petrol</td>\n",
       "      <td>30</td>\n",
       "      <td>55.4</td>\n",
       "      <td>1.4</td>\n",
       "      <td>11000.0</td>\n",
       "    </tr>\n",
       "    <tr>\n",
       "      <th>3</th>\n",
       "      <td>A4</td>\n",
       "      <td>2017</td>\n",
       "      <td>16800</td>\n",
       "      <td>Automatic</td>\n",
       "      <td>25952</td>\n",
       "      <td>Diesel</td>\n",
       "      <td>145</td>\n",
       "      <td>67.3</td>\n",
       "      <td>2.0</td>\n",
       "      <td>16800.0</td>\n",
       "    </tr>\n",
       "    <tr>\n",
       "      <th>4</th>\n",
       "      <td>A3</td>\n",
       "      <td>2019</td>\n",
       "      <td>17300</td>\n",
       "      <td>Manual</td>\n",
       "      <td>1998</td>\n",
       "      <td>Petrol</td>\n",
       "      <td>145</td>\n",
       "      <td>49.6</td>\n",
       "      <td>1.0</td>\n",
       "      <td>17300.0</td>\n",
       "    </tr>\n",
       "    <tr>\n",
       "      <th>...</th>\n",
       "      <td>...</td>\n",
       "      <td>...</td>\n",
       "      <td>...</td>\n",
       "      <td>...</td>\n",
       "      <td>...</td>\n",
       "      <td>...</td>\n",
       "      <td>...</td>\n",
       "      <td>...</td>\n",
       "      <td>...</td>\n",
       "      <td>...</td>\n",
       "    </tr>\n",
       "    <tr>\n",
       "      <th>10663</th>\n",
       "      <td>A3</td>\n",
       "      <td>2020</td>\n",
       "      <td>16999</td>\n",
       "      <td>Manual</td>\n",
       "      <td>4018</td>\n",
       "      <td>Petrol</td>\n",
       "      <td>145</td>\n",
       "      <td>49.6</td>\n",
       "      <td>1.0</td>\n",
       "      <td>16999.0</td>\n",
       "    </tr>\n",
       "    <tr>\n",
       "      <th>10664</th>\n",
       "      <td>A3</td>\n",
       "      <td>2020</td>\n",
       "      <td>16999</td>\n",
       "      <td>Manual</td>\n",
       "      <td>1978</td>\n",
       "      <td>Petrol</td>\n",
       "      <td>150</td>\n",
       "      <td>49.6</td>\n",
       "      <td>1.0</td>\n",
       "      <td>16999.0</td>\n",
       "    </tr>\n",
       "    <tr>\n",
       "      <th>10665</th>\n",
       "      <td>A3</td>\n",
       "      <td>2020</td>\n",
       "      <td>17199</td>\n",
       "      <td>Manual</td>\n",
       "      <td>609</td>\n",
       "      <td>Petrol</td>\n",
       "      <td>150</td>\n",
       "      <td>49.6</td>\n",
       "      <td>1.0</td>\n",
       "      <td>17199.0</td>\n",
       "    </tr>\n",
       "    <tr>\n",
       "      <th>10666</th>\n",
       "      <td>Q3</td>\n",
       "      <td>2017</td>\n",
       "      <td>19499</td>\n",
       "      <td>Automatic</td>\n",
       "      <td>8646</td>\n",
       "      <td>Petrol</td>\n",
       "      <td>150</td>\n",
       "      <td>47.9</td>\n",
       "      <td>1.4</td>\n",
       "      <td>19499.0</td>\n",
       "    </tr>\n",
       "    <tr>\n",
       "      <th>10667</th>\n",
       "      <td>Q3</td>\n",
       "      <td>2016</td>\n",
       "      <td>15999</td>\n",
       "      <td>Manual</td>\n",
       "      <td>11855</td>\n",
       "      <td>Petrol</td>\n",
       "      <td>150</td>\n",
       "      <td>47.9</td>\n",
       "      <td>1.4</td>\n",
       "      <td>15999.0</td>\n",
       "    </tr>\n",
       "  </tbody>\n",
       "</table>\n",
       "<p>10668 rows × 10 columns</p>\n",
       "</div>"
      ],
      "text/plain": [
       "      model  year  price transmission  mileage fuelType  tax   mpg  \\\n",
       "0        A1  2017  12500       Manual    15735   Petrol  150  55.4   \n",
       "1        A6  2016  16500    Automatic    36203   Diesel   20  64.2   \n",
       "2        A1  2016  11000       Manual    29946   Petrol   30  55.4   \n",
       "3        A4  2017  16800    Automatic    25952   Diesel  145  67.3   \n",
       "4        A3  2019  17300       Manual     1998   Petrol  145  49.6   \n",
       "...     ...   ...    ...          ...      ...      ...  ...   ...   \n",
       "10663    A3  2020  16999       Manual     4018   Petrol  145  49.6   \n",
       "10664    A3  2020  16999       Manual     1978   Petrol  150  49.6   \n",
       "10665    A3  2020  17199       Manual      609   Petrol  150  49.6   \n",
       "10666    Q3  2017  19499    Automatic     8646   Petrol  150  47.9   \n",
       "10667    Q3  2016  15999       Manual    11855   Petrol  150  47.9   \n",
       "\n",
       "       engineSize        0  \n",
       "0             1.4  12500.0  \n",
       "1             2.0  16500.0  \n",
       "2             1.4  11000.0  \n",
       "3             2.0  16800.0  \n",
       "4             1.0  17300.0  \n",
       "...           ...      ...  \n",
       "10663         1.0  16999.0  \n",
       "10664         1.0  16999.0  \n",
       "10665         1.0  17199.0  \n",
       "10666         1.4  19499.0  \n",
       "10667         1.4  15999.0  \n",
       "\n",
       "[10668 rows x 10 columns]"
      ]
     },
     "metadata": {},
     "output_type": "display_data"
    }
   ],
   "source": [
    "result = pd.concat([df,pd.DataFrame(y_pred)],axis=1)\n",
    "display( result)"
   ]
  },
  {
   "cell_type": "markdown",
   "id": "02b8f888",
   "metadata": {},
   "source": [
    "### Random Forest"
   ]
  },
  {
   "cell_type": "code",
   "execution_count": 33,
   "id": "73810918",
   "metadata": {},
   "outputs": [
    {
     "name": "stdout",
     "output_type": "stream",
     "text": [
      "R2 Score  0.9854936957854944\n",
      "Mean Absolute Error 784.8616110361777\n"
     ]
    }
   ],
   "source": [
    "from sklearn.ensemble import RandomForestRegressor\n",
    "from sklearn.metrics import r2_score,mean_absolute_error\n",
    "\n",
    "regression = RandomForestRegressor(random_state=0)\n",
    "regression.fit(x_train,y_train)\n",
    "y_pred = regression.predict(x)\n",
    "print  ('R2 Score ', r2_score(y, y_pred))\n",
    "print  ('Mean Absolute Error', mean_absolute_error(y,y_pred))"
   ]
  },
  {
   "cell_type": "markdown",
   "id": "37fe024b",
   "metadata": {},
   "source": [
    "### with cross validation"
   ]
  },
  {
   "cell_type": "code",
   "execution_count": 36,
   "id": "7e2e7e9a",
   "metadata": {},
   "outputs": [
    {
     "name": "stdout",
     "output_type": "stream",
     "text": [
      "          0\n",
      "0  0.948955\n",
      "1  0.958155\n",
      "2  0.952872\n",
      "3  0.946164\n",
      "4  0.933764\n",
      "Mean 0.9479821044178186\n",
      "STD 0.008170525473163048\n"
     ]
    }
   ],
   "source": [
    "from sklearn.model_selection import cross_val_score\n",
    "rf= RandomForestRegressor(random_state=0)\n",
    "rf_accuracies = cross_val_score(rf, x, y, cv=5)\n",
    "print (pd.DataFrame(rf_accuracies))\n",
    "print ('Mean', rf_accuracies.mean())\n",
    "print ('STD', rf_accuracies.std())"
   ]
  },
  {
   "cell_type": "code",
   "execution_count": 38,
   "id": "09d23be3",
   "metadata": {},
   "outputs": [
    {
     "name": "stdout",
     "output_type": "stream",
     "text": [
      "          0\n",
      "0  0.942843\n",
      "1  0.957959\n",
      "2  0.946583\n",
      "3  0.937024\n",
      "4  0.932211\n",
      "Mean 0.943324265915279\n",
      "STD 0.008811575103279318\n"
     ]
    }
   ],
   "source": [
    "from sklearn.model_selection import cross_val_score\n",
    "rf= RandomForestRegressor(n_estimators=5)\n",
    "rf_accuracies = cross_val_score(rf, x, y, cv=5)\n",
    "print (pd.DataFrame(rf_accuracies))\n",
    "print ('Mean', rf_accuracies.mean())\n",
    "print ('STD', rf_accuracies.std())"
   ]
  },
  {
   "cell_type": "code",
   "execution_count": 39,
   "id": "01f5d5e7",
   "metadata": {},
   "outputs": [
    {
     "name": "stdout",
     "output_type": "stream",
     "text": [
      "          0\n",
      "0  0.944668\n",
      "1  0.954164\n",
      "2  0.949761\n",
      "3  0.942329\n",
      "4  0.919990\n",
      "Mean 0.9421823884190156\n",
      "STD 0.011829392479512375\n"
     ]
    }
   ],
   "source": [
    "from sklearn.model_selection import cross_val_score\n",
    "rf= RandomForestRegressor(n_estimators=10)\n",
    "rf_accuracies = cross_val_score(rf, x, y, cv=5)\n",
    "print (pd.DataFrame(rf_accuracies))\n",
    "print ('Mean', rf_accuracies.mean())\n",
    "print ('STD', rf_accuracies.std())"
   ]
  },
  {
   "cell_type": "code",
   "execution_count": 43,
   "id": "113d3057",
   "metadata": {},
   "outputs": [
    {
     "name": "stdout",
     "output_type": "stream",
     "text": [
      "          0\n",
      "0  0.948880\n",
      "1  0.957411\n",
      "2  0.949561\n",
      "3  0.941556\n",
      "4  0.935859\n",
      "Mean 0.9466533460803864\n",
      "STD 0.007370776450466918\n"
     ]
    }
   ],
   "source": [
    "from sklearn.model_selection import cross_val_score\n",
    "rf= RandomForestRegressor(n_estimators=20)\n",
    "rf_accuracies = cross_val_score(rf, x, y, cv=5)\n",
    "print (pd.DataFrame(rf_accuracies))\n",
    "print ('Mean', rf_accuracies.mean())\n",
    "print ('STD', rf_accuracies.std())"
   ]
  },
  {
   "cell_type": "code",
   "execution_count": 44,
   "id": "addbad97",
   "metadata": {},
   "outputs": [
    {
     "name": "stdout",
     "output_type": "stream",
     "text": [
      "          0\n",
      "0  0.948444\n",
      "1  0.960938\n",
      "2  0.950791\n",
      "3  0.944829\n",
      "4  0.935777\n",
      "Mean 0.9481558448684411\n",
      "STD 0.008181789131156194\n"
     ]
    }
   ],
   "source": [
    "from sklearn.model_selection import cross_val_score\n",
    "rf= RandomForestRegressor(n_estimators=40)\n",
    "rf_accuracies = cross_val_score(rf, x, y, cv=5)\n",
    "print (pd.DataFrame(rf_accuracies))\n",
    "print ('Mean', rf_accuracies.mean())\n",
    "print ('STD', rf_accuracies.std())"
   ]
  },
  {
   "cell_type": "code",
   "execution_count": 45,
   "id": "d3967ad1",
   "metadata": {},
   "outputs": [
    {
     "name": "stdout",
     "output_type": "stream",
     "text": [
      "          0\n",
      "0  0.949664\n",
      "1  0.959419\n",
      "2  0.950254\n",
      "3  0.945543\n",
      "4  0.939328\n",
      "Mean 0.9488415960822527\n",
      "STD 0.006571763225697363\n"
     ]
    }
   ],
   "source": [
    "from sklearn.model_selection import cross_val_score\n",
    "rf= RandomForestRegressor(n_estimators=60)\n",
    "rf_accuracies = cross_val_score(rf, x, y, cv=5)\n",
    "print (pd.DataFrame(rf_accuracies))\n",
    "print ('Mean', rf_accuracies.mean())\n",
    "print ('STD', rf_accuracies.std())"
   ]
  },
  {
   "cell_type": "code",
   "execution_count": 46,
   "id": "538740c5",
   "metadata": {},
   "outputs": [
    {
     "name": "stdout",
     "output_type": "stream",
     "text": [
      "          0\n",
      "0  0.948900\n",
      "1  0.958844\n",
      "2  0.950977\n",
      "3  0.945202\n",
      "4  0.938082\n",
      "Mean 0.948400959235127\n",
      "STD 0.006821366029544514\n"
     ]
    }
   ],
   "source": [
    "from sklearn.model_selection import cross_val_score\n",
    "rf= RandomForestRegressor(n_estimators=80)\n",
    "rf_accuracies = cross_val_score(rf, x, y, cv=5)\n",
    "print (pd.DataFrame(rf_accuracies))\n",
    "print ('Mean', rf_accuracies.mean())\n",
    "print ('STD', rf_accuracies.std())"
   ]
  },
  {
   "cell_type": "code",
   "execution_count": 42,
   "id": "f2848a3f",
   "metadata": {},
   "outputs": [
    {
     "name": "stdout",
     "output_type": "stream",
     "text": [
      "          0\n",
      "0  0.949353\n",
      "1  0.958413\n",
      "2  0.950761\n",
      "3  0.946096\n",
      "4  0.938594\n",
      "Mean 0.9486434761361447\n",
      "STD 0.006448368988851856\n"
     ]
    }
   ],
   "source": [
    "from sklearn.model_selection import cross_val_score\n",
    "rf= RandomForestRegressor()\n",
    "rf_accuracies = cross_val_score(rf, x, y, cv=5)\n",
    "print (pd.DataFrame(rf_accuracies))\n",
    "print ('Mean', rf_accuracies.mean())\n",
    "print ('STD', rf_accuracies.std())"
   ]
  },
  {
   "cell_type": "code",
   "execution_count": 34,
   "id": "d7b846e2",
   "metadata": {},
   "outputs": [
    {
     "data": {
      "text/html": [
       "<div>\n",
       "<style scoped>\n",
       "    .dataframe tbody tr th:only-of-type {\n",
       "        vertical-align: middle;\n",
       "    }\n",
       "\n",
       "    .dataframe tbody tr th {\n",
       "        vertical-align: top;\n",
       "    }\n",
       "\n",
       "    .dataframe thead th {\n",
       "        text-align: right;\n",
       "    }\n",
       "</style>\n",
       "<table border=\"1\" class=\"dataframe\">\n",
       "  <thead>\n",
       "    <tr style=\"text-align: right;\">\n",
       "      <th></th>\n",
       "      <th>0</th>\n",
       "      <th>1</th>\n",
       "    </tr>\n",
       "  </thead>\n",
       "  <tbody>\n",
       "    <tr>\n",
       "      <th>0</th>\n",
       "      <td>12864.85</td>\n",
       "      <td>12500.0</td>\n",
       "    </tr>\n",
       "    <tr>\n",
       "      <th>1</th>\n",
       "      <td>16457.12</td>\n",
       "      <td>16500.0</td>\n",
       "    </tr>\n",
       "    <tr>\n",
       "      <th>2</th>\n",
       "      <td>11755.03</td>\n",
       "      <td>11000.0</td>\n",
       "    </tr>\n",
       "    <tr>\n",
       "      <th>3</th>\n",
       "      <td>17664.67</td>\n",
       "      <td>16800.0</td>\n",
       "    </tr>\n",
       "    <tr>\n",
       "      <th>4</th>\n",
       "      <td>17191.84</td>\n",
       "      <td>17300.0</td>\n",
       "    </tr>\n",
       "    <tr>\n",
       "      <th>...</th>\n",
       "      <td>...</td>\n",
       "      <td>...</td>\n",
       "    </tr>\n",
       "    <tr>\n",
       "      <th>10663</th>\n",
       "      <td>17052.35</td>\n",
       "      <td>16999.0</td>\n",
       "    </tr>\n",
       "    <tr>\n",
       "      <th>10664</th>\n",
       "      <td>16985.51</td>\n",
       "      <td>16999.0</td>\n",
       "    </tr>\n",
       "    <tr>\n",
       "      <th>10665</th>\n",
       "      <td>17642.77</td>\n",
       "      <td>17199.0</td>\n",
       "    </tr>\n",
       "    <tr>\n",
       "      <th>10666</th>\n",
       "      <td>20217.97</td>\n",
       "      <td>19499.0</td>\n",
       "    </tr>\n",
       "    <tr>\n",
       "      <th>10667</th>\n",
       "      <td>18360.66</td>\n",
       "      <td>15999.0</td>\n",
       "    </tr>\n",
       "  </tbody>\n",
       "</table>\n",
       "<p>10668 rows × 2 columns</p>\n",
       "</div>"
      ],
      "text/plain": [
       "              0        1\n",
       "0      12864.85  12500.0\n",
       "1      16457.12  16500.0\n",
       "2      11755.03  11000.0\n",
       "3      17664.67  16800.0\n",
       "4      17191.84  17300.0\n",
       "...         ...      ...\n",
       "10663  17052.35  16999.0\n",
       "10664  16985.51  16999.0\n",
       "10665  17642.77  17199.0\n",
       "10666  20217.97  19499.0\n",
       "10667  18360.66  15999.0\n",
       "\n",
       "[10668 rows x 2 columns]"
      ]
     },
     "execution_count": 34,
     "metadata": {},
     "output_type": "execute_result"
    }
   ],
   "source": [
    "data=np.concatenate((y_pred.reshape(len(y_pred),1),y.reshape(len(y),1)),1)\n",
    "pd.DataFrame(data)"
   ]
  },
  {
   "cell_type": "code",
   "execution_count": 54,
   "id": "ed4cd3c2",
   "metadata": {},
   "outputs": [
    {
     "name": "stdout",
     "output_type": "stream",
     "text": [
      "R2 Score  0.9570469800914349\n",
      "Mean Absolute Error 1535.7550409247112\n"
     ]
    }
   ],
   "source": [
    "from sklearn.ensemble import  ExtraTreesRegressor\n",
    "ET_Model=ExtraTreesRegressor()\n",
    "ET_Model.fit(x_train,y_train)\n",
    "y_predict=ET_Model.predict(x_test)\n",
    "from sklearn.metrics import r2_score,mean_absolute_error\n",
    "print  ('R2 Score ', r2_score(y_test, y_predict))\n",
    "print  ('Mean Absolute Error', mean_absolute_error(y_test,y_predict))"
   ]
  },
  {
   "cell_type": "markdown",
   "id": "1cabf5dc",
   "metadata": {},
   "source": [
    "### With Cross Validation"
   ]
  },
  {
   "cell_type": "code",
   "execution_count": 47,
   "id": "43b1c892",
   "metadata": {},
   "outputs": [
    {
     "name": "stdout",
     "output_type": "stream",
     "text": [
      "          0\n",
      "0  0.942899\n",
      "1  0.961520\n",
      "2  0.949371\n",
      "3  0.945425\n",
      "4  0.939957\n",
      "Mean 0.9478342621576126\n",
      "STD 0.007508089243021039\n"
     ]
    }
   ],
   "source": [
    "from sklearn.model_selection import cross_val_score\n",
    "ET_Model=ExtraTreesRegressor(n_estimators = 20)\n",
    "rf_accuracies = cross_val_score(ET_Model, x, y, cv=5)\n",
    "print (pd.DataFrame(rf_accuracies))\n",
    "print ('Mean', rf_accuracies.mean())\n",
    "print ('STD', rf_accuracies.std())"
   ]
  },
  {
   "cell_type": "code",
   "execution_count": 48,
   "id": "9224f8e7",
   "metadata": {},
   "outputs": [
    {
     "name": "stdout",
     "output_type": "stream",
     "text": [
      "          0\n",
      "0  0.944808\n",
      "1  0.959980\n",
      "2  0.950397\n",
      "3  0.944736\n",
      "4  0.945716\n",
      "Mean 0.9491273667209337\n",
      "STD 0.005813243807764313\n"
     ]
    }
   ],
   "source": [
    "from sklearn.model_selection import cross_val_score\n",
    "ET_Model=ExtraTreesRegressor(n_estimators = 50)\n",
    "rf_accuracies = cross_val_score(ET_Model, x, y, cv=5)\n",
    "print (pd.DataFrame(rf_accuracies))\n",
    "print ('Mean', rf_accuracies.mean())\n",
    "print ('STD', rf_accuracies.std())"
   ]
  },
  {
   "cell_type": "code",
   "execution_count": 49,
   "id": "8f43e95a",
   "metadata": {},
   "outputs": [
    {
     "name": "stdout",
     "output_type": "stream",
     "text": [
      "          0\n",
      "0  0.945175\n",
      "1  0.961379\n",
      "2  0.950207\n",
      "3  0.947586\n",
      "4  0.945373\n",
      "Mean 0.9499440674142923\n",
      "STD 0.006000533259291121\n"
     ]
    }
   ],
   "source": [
    "from sklearn.model_selection import cross_val_score\n",
    "ET_Model=ExtraTreesRegressor(n_estimators = 80)\n",
    "rf_accuracies = cross_val_score(ET_Model, x, y, cv=5)\n",
    "print (pd.DataFrame(rf_accuracies))\n",
    "print ('Mean', rf_accuracies.mean())\n",
    "print ('STD', rf_accuracies.std())"
   ]
  },
  {
   "cell_type": "code",
   "execution_count": 50,
   "id": "5b99b79a",
   "metadata": {},
   "outputs": [
    {
     "name": "stdout",
     "output_type": "stream",
     "text": [
      "          0\n",
      "0  0.944489\n",
      "1  0.961052\n",
      "2  0.950324\n",
      "3  0.947578\n",
      "4  0.945085\n",
      "Mean 0.9497056685404145\n",
      "STD 0.006036773504769452\n"
     ]
    }
   ],
   "source": [
    "from sklearn.model_selection import cross_val_score\n",
    "ET_Model=ExtraTreesRegressor(n_estimators = 100)\n",
    "rf_accuracies = cross_val_score(ET_Model, x, y, cv=5)\n",
    "print (pd.DataFrame(rf_accuracies))\n",
    "print ('Mean', rf_accuracies.mean())\n",
    "print ('STD', rf_accuracies.std())"
   ]
  },
  {
   "cell_type": "code",
   "execution_count": 51,
   "id": "e403fc36",
   "metadata": {},
   "outputs": [
    {
     "name": "stdout",
     "output_type": "stream",
     "text": [
      "          0\n",
      "0  0.944563\n",
      "1  0.960813\n",
      "2  0.950571\n",
      "3  0.948133\n",
      "4  0.946215\n",
      "Mean 0.95005909266052\n",
      "STD 0.00573762415790319\n"
     ]
    }
   ],
   "source": [
    "from sklearn.model_selection import cross_val_score\n",
    "ET_Model=ExtraTreesRegressor(n_estimators = 120)\n",
    "rf_accuracies = cross_val_score(ET_Model, x, y, cv=5)\n",
    "print (pd.DataFrame(rf_accuracies))\n",
    "print ('Mean', rf_accuracies.mean())\n",
    "print ('STD', rf_accuracies.std())"
   ]
  },
  {
   "cell_type": "code",
   "execution_count": 52,
   "id": "03bd396c",
   "metadata": {},
   "outputs": [
    {
     "name": "stdout",
     "output_type": "stream",
     "text": [
      "          0\n",
      "0  0.944705\n",
      "1  0.962427\n",
      "2  0.950056\n",
      "3  0.946692\n",
      "4  0.946675\n",
      "Mean 0.9501111545917229\n",
      "STD 0.006393771216485527\n"
     ]
    }
   ],
   "source": [
    "from sklearn.model_selection import cross_val_score\n",
    "ET_Model=ExtraTreesRegressor(n_estimators = 150)\n",
    "rf_accuracies = cross_val_score(ET_Model, x, y, cv=5)\n",
    "print (pd.DataFrame(rf_accuracies))\n",
    "print ('Mean', rf_accuracies.mean())\n",
    "print ('STD', rf_accuracies.std())"
   ]
  },
  {
   "cell_type": "code",
   "execution_count": 53,
   "id": "1462bc91",
   "metadata": {},
   "outputs": [
    {
     "name": "stdout",
     "output_type": "stream",
     "text": [
      "          0\n",
      "0  0.945447\n",
      "1  0.961110\n",
      "2  0.950792\n",
      "3  0.947289\n",
      "4  0.944523\n",
      "Mean 0.9498324687310186\n",
      "STD 0.006033113704853254\n"
     ]
    }
   ],
   "source": [
    "from sklearn.model_selection import cross_val_score\n",
    "ET_Model=ExtraTreesRegressor(n_estimators = 180)\n",
    "rf_accuracies = cross_val_score(ET_Model, x, y, cv=5)\n",
    "print (pd.DataFrame(rf_accuracies))\n",
    "print ('Mean', rf_accuracies.mean())\n",
    "print ('STD', rf_accuracies.std())"
   ]
  },
  {
   "cell_type": "code",
   "execution_count": null,
   "id": "56c12278",
   "metadata": {},
   "outputs": [],
   "source": []
  }
 ],
 "metadata": {
  "kernelspec": {
   "display_name": "Python 3 (ipykernel)",
   "language": "python",
   "name": "python3"
  },
  "language_info": {
   "codemirror_mode": {
    "name": "ipython",
    "version": 3
   },
   "file_extension": ".py",
   "mimetype": "text/x-python",
   "name": "python",
   "nbconvert_exporter": "python",
   "pygments_lexer": "ipython3",
   "version": "3.11.1"
  }
 },
 "nbformat": 4,
 "nbformat_minor": 5
}
